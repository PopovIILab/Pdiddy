{
 "cells": [
  {
   "cell_type": "code",
   "execution_count": 1,
   "metadata": {},
   "outputs": [],
   "source": [
    "! mkdir data/"
   ]
  },
  {
   "cell_type": "code",
   "execution_count": 2,
   "metadata": {},
   "outputs": [],
   "source": [
    "! esearch -db nucleotide \\\n",
    "    -query '(\"Leotiomycetes\"[Organism] OR Leotiomycetes[All Fields]) AND srcdb_refseq[PROP] AND (fungi[filter] AND mitochondrion[filter])' \\\n",
    "    | efetch -format fasta > data/Leotiomycetes.fasta"
   ]
  },
  {
   "cell_type": "code",
   "execution_count": 18,
   "metadata": {},
   "outputs": [
    {
     "name": "stdout",
     "output_type": "stream",
     "text": [
      "Separated fasta files are written to Leotiomycetes directory\n"
     ]
    }
   ],
   "source": [
    "%run scripts/sepfasta.py data/Leotiomycetes.fasta Leotiomycetes"
   ]
  },
  {
   "cell_type": "code",
   "execution_count": 19,
   "metadata": {},
   "outputs": [],
   "source": [
    "! ls Leotiomycetes/ > data/listFile"
   ]
  },
  {
   "cell_type": "code",
   "execution_count": 20,
   "metadata": {},
   "outputs": [
    {
     "name": "stdout",
     "output_type": "stream",
     "text": [
      "\u001b[33m  !! Your genomes will be split when sequence contains at least 5'N' in a row. If you want to change this threshold, see --cutn option.\u001b[0m\n",
      "\u001b[33m  !! Your genomes will be filtered, and only the ones with 'L90' <= 100 and 'number of contigs' < 999 will be kept. If you want to change those thresholds, use '--l90' and '--nbcont' options.\u001b[0m\n",
      "\n",
      "\u001b[32m  * [2025-01-29 20:16:30] : INFO \u001b[0m PanACoTA version 1.4.0\u001b[0m\n",
      "\u001b[32m  * [2025-01-29 20:16:30] : INFO \u001b[0m Command used\n",
      " \t > PanACoTA annotate -d Leotiomycetes/ -r Annotation -n LeMy -l data/listFile --threads 24\u001b[0m\n",
      "\u001b[32m  * [2025-01-29 20:16:30] : INFO \u001b[0m Reading genomes\u001b[0m\n",
      "\u001b[32m  * [2025-01-29 20:16:30] : INFO \u001b[0m Cutting genomes at each time there are at least 5 'N' in a row, and then, calculating genome size, number of contigs and L90.\u001b[0m\n",
      "Analysis: ███████████████ 24/24 (100%) - Elapsed Time: 0:00:00 - Time:  0:00:00\n",
      "\u001b[32m  * [2025-01-29 20:16:30] : INFO \u001b[0m Generating distribution of L90 and #contigs graphs.\u001b[0m\n",
      "\u001b[32m  * [2025-01-29 20:16:31] : INFO \u001b[0m -> Original sequences folder ('orig_name' column): Leotiomycetes/ \u001b[0m\n",
      "\u001b[32m  * [2025-01-29 20:16:31] : INFO \u001b[0m \t-> If original sequence not found in Leotiomycetes/, look for it in Annotation/tmp_files, as it must be a concatenation of several input sequence files.\u001b[0m\n",
      "\u001b[32m  * [2025-01-29 20:16:31] : INFO \u001b[0m -> Folder with sequence files that will be used for annotation ('to_annotate' column): Annotation/tmp_files\u001b[0m\n",
      "\u001b[32m  * [2025-01-29 20:16:31] : INFO \u001b[0m Renaming kept genomes according to their quality (24 genomes)\u001b[0m\n",
      "\u001b[32m  * [2025-01-29 20:16:31] : INFO \u001b[0m Annotating all genomes with prokka\u001b[0m\n",
      "Annotation:                              0/24 (  0%) - Elapsed Time: 0:00:08 - [tbl2asn-forever] Found Prokka input, correcting dates in .gbf|.sqn files.\n",
      "[tbl2asn-forever] Correcting dates in Annotation/tmp_files/NC_048507.1.fasta_prokka-split5N.fna-prokkaRes/LeMy.0125.00013.gbf\n",
      "[tbl2asn-forever] Correcting dates in Annotation/tmp_files/NC_048507.1.fasta_prokka-split5N.fna-prokkaRes/LeMy.0125.00013.sqn\n",
      "[tbl2asn-forever] Found Prokka input, correcting dates in .gbf|.sqn files.\n",
      "[tbl2asn-forever] Correcting dates in Annotation/tmp_files/NC_029759.1.fasta_prokka-split5N.fna-prokkaRes/LeMy.0125.00009.gbf\n",
      "[tbl2asn-forever] Correcting dates in Annotation/tmp_files/NC_029759.1.fasta_prokka-split5N.fna-prokkaRes/LeMy.0125.00009.sqn\n",
      "[tbl2asn-forever] Found Prokka input, correcting dates in .gbf|.sqn files.\n",
      "[tbl2asn-forever] Correcting dates in Annotation/tmp_files/NC_027422.1.fasta_prokka-split5N.fna-prokkaRes/LeMy.0125.00008.gbf\n",
      "[tbl2asn-forever] Correcting dates in Annotation/tmp_files/NC_027422.1.fasta_prokka-split5N.fna-prokkaRes/LeMy.0125.00008.sqn\n",
      "Annotation:                              0/24 (  0%) - Elapsed Time: 0:00:08 - [tbl2asn-forever] Dates changed from 01-JAN-2019 to 29-янв-2025\n",
      "[tbl2asn-forever] Dates changed from 01-JAN-2019 to 29-янв-2025\n",
      "Annotation: █                            1/24 (  4%) - Elapsed Time: 0:00:08 - [tbl2asn-forever] Dates changed from 01-JAN-2019 to 29-янв-2025\n",
      "[tbl2asn-forever] Found Prokka input, correcting dates in .gbf|.sqn files.\n",
      "[tbl2asn-forever] Correcting dates in Annotation/tmp_files/NC_082276.1.fasta_prokka-split5N.fna-prokkaRes/LeMy.0125.00024.gbf\n",
      "[tbl2asn-forever] Correcting dates in Annotation/tmp_files/NC_082276.1.fasta_prokka-split5N.fna-prokkaRes/LeMy.0125.00024.sqn\n",
      "Annotation: ███                          3/24 ( 12%) - Elapsed Time: 0:00:08 - [tbl2asn-forever] Dates changed from 01-JAN-2019 to 29-янв-2025\n",
      "Annotation: ████                         4/24 ( 16%) - Elapsed Time: 0:00:08 - [tbl2asn-forever] Found Prokka input, correcting dates in .gbf|.sqn files.\n",
      "[tbl2asn-forever] Correcting dates in Annotation/tmp_files/NC_069201.1.fasta_prokka-split5N.fna-prokkaRes/LeMy.0125.00020.gbf\n",
      "[tbl2asn-forever] Correcting dates in Annotation/tmp_files/NC_069201.1.fasta_prokka-split5N.fna-prokkaRes/LeMy.0125.00020.sqn\n",
      "Annotation: ████                         4/24 ( 16%) - Elapsed Time: 0:00:09 - [tbl2asn-forever] Dates changed from 01-JAN-2019 to 29-янв-2025\n",
      "Annotation: █████                        5/24 ( 20%) - Elapsed Time: 0:00:09 - [tbl2asn-forever] Found Prokka input, correcting dates in .gbf|.sqn files.\n",
      "[tbl2asn-forever] Correcting dates in Annotation/tmp_files/NC_033907.1.fasta_prokka-split5N.fna-prokkaRes/LeMy.0125.00011.gbf\n",
      "[tbl2asn-forever] Correcting dates in Annotation/tmp_files/NC_033907.1.fasta_prokka-split5N.fna-prokkaRes/LeMy.0125.00011.sqn\n",
      "[tbl2asn-forever] Dates changed from 01-JAN-2019 to 29-янв-2025\n",
      "Annotation: █████                        5/24 ( 20%) - Elapsed Time: 0:00:09 - [tbl2asn-forever] Found Prokka input, correcting dates in .gbf|.sqn files.\n",
      "[tbl2asn-forever] Correcting dates in Annotation/tmp_files/NC_082275.1.fasta_prokka-split5N.fna-prokkaRes/LeMy.0125.00023.gbf\n",
      "[tbl2asn-forever] Correcting dates in Annotation/tmp_files/NC_082275.1.fasta_prokka-split5N.fna-prokkaRes/LeMy.0125.00023.sqn\n",
      "Annotation: ███████                      6/24 ( 25%) - Elapsed Time: 0:00:09 - [tbl2asn-forever] Dates changed from 01-JAN-2019 to 29-янв-2025\n",
      "Annotation: ████████                     7/24 ( 29%) - Elapsed Time: 0:00:10 - [tbl2asn-forever] Found Prokka input, correcting dates in .gbf|.sqn files.\n",
      "[tbl2asn-forever] Correcting dates in Annotation/tmp_files/NC_031375.1.fasta_prokka-split5N.fna-prokkaRes/LeMy.0125.00010.gbf\n",
      "[tbl2asn-forever] Correcting dates in Annotation/tmp_files/NC_031375.1.fasta_prokka-split5N.fna-prokkaRes/LeMy.0125.00010.sqn\n",
      "Annotation: ████████                     7/24 ( 29%) - Elapsed Time: 0:00:10 - [tbl2asn-forever] Dates changed from 01-JAN-2019 to 29-янв-2025\n",
      "Annotation: █████████                    8/24 ( 33%) - Elapsed Time: 0:00:10 - [tbl2asn-forever] Found Prokka input, correcting dates in .gbf|.sqn files.\n",
      "[tbl2asn-forever] Correcting dates in Annotation/tmp_files/NC_015789.1.fasta_prokka-split5N.fna-prokkaRes/LeMy.0125.00001.gbf\n",
      "[tbl2asn-forever] Correcting dates in Annotation/tmp_files/NC_015789.1.fasta_prokka-split5N.fna-prokkaRes/LeMy.0125.00001.sqn\n",
      "Annotation: █████████                    8/24 ( 33%) - Elapsed Time: 0:00:10 - [tbl2asn-forever] Dates changed from 01-JAN-2019 to 29-янв-2025\n",
      "Annotation: ██████████                   9/24 ( 37%) - Elapsed Time: 0:00:11 - [tbl2asn-forever] Found Prokka input, correcting dates in .gbf|.sqn files.\n",
      "[tbl2asn-forever] Correcting dates in Annotation/tmp_files/NC_023127.1.fasta_prokka-split5N.fna-prokkaRes/LeMy.0125.00005.gbf\n",
      "[tbl2asn-forever] Correcting dates in Annotation/tmp_files/NC_023127.1.fasta_prokka-split5N.fna-prokkaRes/LeMy.0125.00005.sqn\n",
      "Annotation: ██████████                   9/24 ( 37%) - Elapsed Time: 0:00:11 - [tbl2asn-forever] Dates changed from 01-JAN-2019 to 29-янв-2025\n",
      "Annotation: ███████████                 10/24 ( 41%) - Elapsed Time: 0:00:12 - [tbl2asn-forever] Found Prokka input, correcting dates in .gbf|.sqn files.\n",
      "[tbl2asn-forever] Correcting dates in Annotation/tmp_files/NC_070174.1.fasta_prokka-split5N.fna-prokkaRes/LeMy.0125.00021.gbf\n",
      "[tbl2asn-forever] Correcting dates in Annotation/tmp_files/NC_070174.1.fasta_prokka-split5N.fna-prokkaRes/LeMy.0125.00021.sqn\n",
      "[tbl2asn-forever] Dates changed from 01-JAN-2019 to 29-янв-2025\n",
      "Annotation: ████████████                11/24 ( 45%) - Elapsed Time: 0:00:13 - [tbl2asn-forever] Found Prokka input, correcting dates in .gbf|.sqn files.\n",
      "[tbl2asn-forever] Correcting dates in Annotation/tmp_files/NC_015991.1.fasta_prokka-split5N.fna-prokkaRes/LeMy.0125.00002.gbf\n",
      "[tbl2asn-forever] Correcting dates in Annotation/tmp_files/NC_015991.1.fasta_prokka-split5N.fna-prokkaRes/LeMy.0125.00002.sqn\n",
      "Annotation: ████████████                11/24 ( 45%) - Elapsed Time: 0:00:13 - [tbl2asn-forever] Dates changed from 01-JAN-2019 to 29-янв-2025\n",
      "Annotation: █████████████               12/24 ( 50%) - Elapsed Time: 0:00:14 - [tbl2asn-forever] Found Prokka input, correcting dates in .gbf|.sqn files.\n",
      "[tbl2asn-forever] Correcting dates in Annotation/tmp_files/NC_023126.1.fasta_prokka-split5N.fna-prokkaRes/LeMy.0125.00004.gbf\n",
      "[tbl2asn-forever] Correcting dates in Annotation/tmp_files/NC_023126.1.fasta_prokka-split5N.fna-prokkaRes/LeMy.0125.00004.sqn\n",
      "Annotation: █████████████               12/24 ( 50%) - Elapsed Time: 0:00:14 - [tbl2asn-forever] Dates changed from 01-JAN-2019 to 29-янв-2025\n",
      "Annotation: ██████████████              13/24 ( 54%) - Elapsed Time: 0:00:14 - [tbl2asn-forever] Found Prokka input, correcting dates in .gbf|.sqn files.\n",
      "[tbl2asn-forever] Correcting dates in Annotation/tmp_files/NC_023128.1.fasta_prokka-split5N.fna-prokkaRes/LeMy.0125.00006.gbf\n",
      "[tbl2asn-forever] Correcting dates in Annotation/tmp_files/NC_023128.1.fasta_prokka-split5N.fna-prokkaRes/LeMy.0125.00006.sqn\n",
      "Annotation: ██████████████              13/24 ( 54%) - Elapsed Time: 0:00:14 - [tbl2asn-forever] Dates changed from 01-JAN-2019 to 29-янв-2025\n",
      "Annotation: ███████████████             14/24 ( 58%) - Elapsed Time: 0:00:15 - [tbl2asn-forever] Found Prokka input, correcting dates in .gbf|.sqn files.\n",
      "[tbl2asn-forever] Correcting dates in Annotation/tmp_files/NC_023125.1.fasta_prokka-split5N.fna-prokkaRes/LeMy.0125.00003.gbf\n",
      "[tbl2asn-forever] Correcting dates in Annotation/tmp_files/NC_023125.1.fasta_prokka-split5N.fna-prokkaRes/LeMy.0125.00003.sqn\n",
      "[tbl2asn-forever] Dates changed from 01-JAN-2019 to 29-янв-2025\n",
      "Annotation: ████████████████            15/24 ( 62%) - Elapsed Time: 0:00:25 - [tbl2asn-forever] Found Prokka input, correcting dates in .gbf|.sqn files.\n",
      "[tbl2asn-forever] Correcting dates in Annotation/tmp_files/NC_061762.1.fasta_prokka-split5N.fna-prokkaRes/LeMy.0125.00019.gbf\n",
      "[tbl2asn-forever] Correcting dates in Annotation/tmp_files/NC_061762.1.fasta_prokka-split5N.fna-prokkaRes/LeMy.0125.00019.sqn\n",
      "Annotation: ████████████████            15/24 ( 62%) - Elapsed Time: 0:00:25 - [tbl2asn-forever] Dates changed from 01-JAN-2019 to 29-янв-2025\n",
      "Annotation: ██████████████████          16/24 ( 66%) - Elapsed Time: 0:00:26 - [tbl2asn-forever] Found Prokka input, correcting dates in .gbf|.sqn files.\n",
      "[tbl2asn-forever] Correcting dates in Annotation/tmp_files/NC_056148.1.fasta_prokka-split5N.fna-prokkaRes/LeMy.0125.00017.gbf\n",
      "[tbl2asn-forever] Correcting dates in Annotation/tmp_files/NC_056148.1.fasta_prokka-split5N.fna-prokkaRes/LeMy.0125.00017.sqn\n",
      "Annotation: ██████████████████          16/24 ( 66%) - Elapsed Time: 0:00:26 - [tbl2asn-forever] Dates changed from 01-JAN-2019 to 29-янв-2025\n",
      "Annotation: ███████████████████         17/24 ( 70%) - Elapsed Time: 0:00:28 - [tbl2asn-forever] Found Prokka input, correcting dates in .gbf|.sqn files.\n",
      "[tbl2asn-forever] Correcting dates in Annotation/tmp_files/NC_035155.1.fasta_prokka-split5N.fna-prokkaRes/LeMy.0125.00012.gbf\n",
      "[tbl2asn-forever] Correcting dates in Annotation/tmp_files/NC_035155.1.fasta_prokka-split5N.fna-prokkaRes/LeMy.0125.00012.sqn\n",
      "Annotation: ███████████████████         17/24 ( 70%) - Elapsed Time: 0:00:28 - [tbl2asn-forever] Dates changed from 01-JAN-2019 to 29-янв-2025\n",
      "Annotation: ████████████████████        18/24 ( 75%) - Elapsed Time: 0:00:35 - [tbl2asn-forever] Found Prokka input, correcting dates in .gbf|.sqn files.\n",
      "[tbl2asn-forever] Correcting dates in Annotation/tmp_files/NC_056195.1.fasta_prokka-split5N.fna-prokkaRes/LeMy.0125.00018.gbf\n",
      "Annotation: ████████████████████        18/24 ( 75%) - Elapsed Time: 0:00:35 - [tbl2asn-forever] Correcting dates in Annotation/tmp_files/NC_056195.1.fasta_prokka-split5N.fna-prokkaRes/LeMy.0125.00018.sqn\n",
      "[tbl2asn-forever] Dates changed from 01-JAN-2019 to 29-янв-2025\n",
      "Annotation: █████████████████████       19/24 ( 79%) - Elapsed Time: 0:00:35 - [tbl2asn-forever] Found Prokka input, correcting dates in .gbf|.sqn files.\n",
      "Annotation: █████████████████████       19/24 ( 79%) - Elapsed Time: 0:00:35 - [tbl2asn-forever] Correcting dates in Annotation/tmp_files/NC_056146.1.fasta_prokka-split5N.fna-prokkaRes/LeMy.0125.00015.gbf\n",
      "[tbl2asn-forever] Correcting dates in Annotation/tmp_files/NC_056146.1.fasta_prokka-split5N.fna-prokkaRes/LeMy.0125.00015.sqn\n",
      "Annotation: █████████████████████       19/24 ( 79%) - Elapsed Time: 0:00:35 - [tbl2asn-forever] Dates changed from 01-JAN-2019 to 29-янв-2025\n",
      "Annotation: ██████████████████████      20/24 ( 83%) - Elapsed Time: 0:00:37 - [tbl2asn-forever] Found Prokka input, correcting dates in .gbf|.sqn files.\n",
      "[tbl2asn-forever] Correcting dates in Annotation/tmp_files/NC_051483.1.fasta_prokka-split5N.fna-prokkaRes/LeMy.0125.00014.gbf\n",
      "[tbl2asn-forever] Found Prokka input, correcting dates in .gbf|.sqn files.\n",
      "[tbl2asn-forever] Correcting dates in Annotation/tmp_files/NC_056147.1.fasta_prokka-split5N.fna-prokkaRes/LeMy.0125.00016.gbf\n",
      "[tbl2asn-forever] Correcting dates in Annotation/tmp_files/NC_051483.1.fasta_prokka-split5N.fna-prokkaRes/LeMy.0125.00014.sqn\n",
      "[tbl2asn-forever] Correcting dates in Annotation/tmp_files/NC_056147.1.fasta_prokka-split5N.fna-prokkaRes/LeMy.0125.00016.sqn\n",
      "Annotation: ██████████████████████      20/24 ( 83%) - Elapsed Time: 0:00:37 - [tbl2asn-forever] Dates changed from 01-JAN-2019 to 29-янв-2025\n",
      "[tbl2asn-forever] Dates changed from 01-JAN-2019 to 29-янв-2025\n",
      "Annotation: ████████████████████████    22/24 ( 91%) - Elapsed Time: 0:00:39 - [tbl2asn-forever] Found Prokka input, correcting dates in .gbf|.sqn files.\n",
      "[tbl2asn-forever] Correcting dates in Annotation/tmp_files/NC_071210.1.fasta_prokka-split5N.fna-prokkaRes/LeMy.0125.00022.gbf\n",
      "[tbl2asn-forever] Correcting dates in Annotation/tmp_files/NC_071210.1.fasta_prokka-split5N.fna-prokkaRes/LeMy.0125.00022.sqn\n",
      "Annotation: ████████████████████████    22/24 ( 91%) - Elapsed Time: 0:00:39 - [tbl2asn-forever] Dates changed from 01-JAN-2019 to 29-янв-2025\n",
      "Annotation: █████████████████████████   23/24 ( 95%) - Elapsed Time: 0:00:43 - [tbl2asn-forever] Found Prokka input, correcting dates in .gbf|.sqn files.\n",
      "[tbl2asn-forever] Correcting dates in Annotation/tmp_files/NC_025200.1.fasta_prokka-split5N.fna-prokkaRes/LeMy.0125.00007.gbf\n",
      "[tbl2asn-forever] Correcting dates in Annotation/tmp_files/NC_025200.1.fasta_prokka-split5N.fna-prokkaRes/LeMy.0125.00007.sqn\n",
      "Annotation: █████████████████████████   23/24 ( 95%) - Elapsed Time: 0:00:43 - [tbl2asn-forever] Dates changed from 01-JAN-2019 to 29-янв-2025\n",
      "Annotation: ███████████████████████████ 24/24 (100%) - Elapsed Time: 0:00:43 - \n",
      "\u001b[32m  * [2025-01-29 20:17:14] : INFO \u001b[0m Formatting all genomes\u001b[0m\n",
      "Formatting genomes: ██████████████████████ 24/24 (100%) - Elapsed Time: 0:00:00\n",
      "\u001b[32m  * [2025-01-29 20:17:15] : INFO \u001b[0m Annotation step done.\u001b[0m\n"
     ]
    }
   ],
   "source": [
    "! PanACoTA annotate -d Leotiomycetes/ -r Annotation -n LeMy -l data/listFile --threads 24"
   ]
  },
  {
   "cell_type": "code",
   "execution_count": 21,
   "metadata": {},
   "outputs": [
    {
     "name": "stdout",
     "output_type": "stream",
     "text": [
      "\u001b[32m  * [2025-01-29 20:17:44] : INFO \u001b[0m PanACoTA version 1.4.0\u001b[0m\n",
      "\u001b[32m  * [2025-01-29 20:17:44] : INFO \u001b[0m Command used\n",
      " \t > PanACoTA pangenome -l Annotation/LSTINFO-.lst -n LeMy -d Annotation/Proteins/ -o Pangenome -i 0.8\u001b[0m\n",
      "\u001b[32m  * [2025-01-29 20:17:44] : INFO \u001b[0m Building bank with all proteins to Annotation/Proteins/LeMy.All.prt\u001b[0m\n",
      "Building bank: ███████████████████████████ 24/24 (100%) - Elapsed Time: 0:00:00\n",
      "\u001b[32m  * [2025-01-29 20:17:44] : INFO \u001b[0m Will run MMseqs2 with:\n",
      "\t- minimum sequence identity = 80.0%\n",
      "\t- cluster mode 1\u001b[0m\n",
      "\u001b[32m  * [2025-01-29 20:17:44] : INFO \u001b[0m Creating database\u001b[0m\n",
      "|◓                     |  -  Elapsed Time: 0:00:00\n",
      "\u001b[32m  * [2025-01-29 20:17:44] : INFO \u001b[0m Clustering proteins...\u001b[0m\n",
      "|  ◒                   |  -  Elapsed Time: 0:00:04\n",
      "\u001b[32m  * [2025-01-29 20:17:49] : INFO \u001b[0m Converting mmseqs results to pangenome file\u001b[0m\n",
      "\u001b[32m  * [2025-01-29 20:17:49] : INFO \u001b[0m Pangenome has 1999 families.\u001b[0m\n",
      "\u001b[32m  * [2025-01-29 20:17:49] : INFO \u001b[0m Retrieving information from pan families\u001b[0m\n",
      "\u001b[32m  * [2025-01-29 20:17:49] : INFO \u001b[0m Generating qualitative and quantitative matrix, and summary file\u001b[0m\n",
      "\u001b[32m  * [2025-01-29 20:17:49] : INFO \u001b[0m DONE\u001b[0m\n"
     ]
    }
   ],
   "source": [
    "! PanACoTA pangenome -l Annotation/LSTINFO-.lst -n LeMy -d Annotation/Proteins/ -o Pangenome -i 0.8"
   ]
  },
  {
   "cell_type": "code",
   "execution_count": 17,
   "metadata": {},
   "outputs": [
    {
     "name": "stdout",
     "output_type": "stream",
     "text": [
      "\u001b[32m  * [2025-01-29 19:58:54] : INFO \u001b[0m PanACoTA version 1.4.0\u001b[0m\n",
      "\u001b[32m  * [2025-01-29 19:58:54] : INFO \u001b[0m Command used\n",
      " \t > PanACoTA corepers -p Pangenome8/PanGenome-LeMy.All.prt-clust-0.8-mode1.lst -o Coregenome86 -t 0.6\u001b[0m\n",
      "\u001b[32m  * [2025-01-29 19:58:54] : INFO \u001b[0m Will generate a Persistent genome with member(s) in at least 60.0% of all genomes in each family.\n",
      "To be considered as persistent, a family must contain exactly 1 member in at least 60.0% of all genomes. The other genomes are absent from the family.\u001b[0m\n",
      "\u001b[32m  * [2025-01-29 19:58:54] : INFO \u001b[0m Retrieving info from binary file\u001b[0m\n",
      "\u001b[32m  * [2025-01-29 19:58:54] : INFO \u001b[0m Generating Persistent genome of a dataset containing 23 genomes\u001b[0m\n",
      "\u001b[32m  * [2025-01-29 19:58:54] : INFO \u001b[0m The persistent genome contains 4 families, each one having exactly 1 member from at least 60.0% of the 23 different genomes (that is 14 genomes). The other genomes are absent from the family.\u001b[0m\n",
      "\u001b[32m  * [2025-01-29 19:58:54] : INFO \u001b[0m Persistent genome step done.\u001b[0m\n"
     ]
    }
   ],
   "source": [
    "! PanACoTA corepers -p Pangenome/PanGenome-LeMy.All.prt-clust-0.8-mode1.lst -o Coregenome -t 0.62"
   ]
  }
 ],
 "metadata": {
  "kernelspec": {
   "display_name": "pdiddy",
   "language": "python",
   "name": "python3"
  },
  "language_info": {
   "codemirror_mode": {
    "name": "ipython",
    "version": 3
   },
   "file_extension": ".py",
   "mimetype": "text/x-python",
   "name": "python",
   "nbconvert_exporter": "python",
   "pygments_lexer": "ipython3",
   "version": "3.6.10"
  }
 },
 "nbformat": 4,
 "nbformat_minor": 2
}
