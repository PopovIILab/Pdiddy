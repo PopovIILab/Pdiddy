{
 "cells": [
  {
   "cell_type": "markdown",
   "metadata": {},
   "source": [
    "# **CHAPTER 2. Phylogenetic analysis**"
   ]
  },
  {
   "cell_type": "markdown",
   "metadata": {},
   "source": [
    "Import all the modules needed for analysis"
   ]
  },
  {
   "cell_type": "code",
   "execution_count": 5,
   "metadata": {},
   "outputs": [],
   "source": [
    "import csv\n",
    "import pandas as pd"
   ]
  },
  {
   "cell_type": "markdown",
   "metadata": {},
   "source": [
    "Process `Annotation/LSTINFO-.lst` file to leave there only those 62% of genomes that have 4 commonly shared genes!"
   ]
  },
  {
   "cell_type": "code",
   "execution_count": 2,
   "metadata": {},
   "outputs": [
    {
     "name": "stdout",
     "output_type": "stream",
     "text": [
      "Filtered file created: Annotation/filtered_LSTINFO-.lst\n"
     ]
    }
   ],
   "source": [
    "%run scripts/process_LSTINFO.py Coregenome/PersGenome_PanGenome-LeMy.All.prt-clust-0.8-mode1.lst-all_0.62.lst Annotation/LSTINFO-.lst Annotation/filtered_LSTINFO-.lst"
   ]
  },
  {
   "cell_type": "markdown",
   "metadata": {},
   "source": [
    "> Disclaimer: the command below was run on DSTU's server"
   ]
  },
  {
   "cell_type": "markdown",
   "metadata": {},
   "source": [
    "Lifehack: instead of running MAFFT by ourselves, we can still run `PanACoTA`!"
   ]
  },
  {
   "cell_type": "code",
   "execution_count": 8,
   "metadata": {},
   "outputs": [
    {
     "name": "stdout",
     "output_type": "stream",
     "text": [
      "\u001b[32m  * [2025-01-31 16:10:50] : INFO \u001b[0m PanACoTA version 1.4.0\u001b[0m\n",
      "\u001b[32m  * [2025-01-31 16:10:50] : INFO \u001b[0m Command used\n",
      " \t > PanACoTA align -c Coregenome/PersGenome_PanGenome-LeMy.All.prt-clust-0.8-mode1.lst-all_0.62.lst -l Annotation/15_19_filtered_LSTINFO-.lst -n LeMy -d Annotation/ -o Alignment_15_19\u001b[0m\n",
      "\u001b[32m  * [2025-01-31 16:10:50] : INFO \u001b[0m Found 20 genomes.\u001b[0m\n",
      "\u001b[32m  * [2025-01-31 16:10:50] : INFO \u001b[0m Reading PersGenome and constructing lists of missing genomes in each family.\u001b[0m\n",
      "\u001b[32m  * [2025-01-31 16:10:50] : INFO \u001b[0m Getting all persistent proteins and classify by strain.\u001b[0m\n",
      "\u001b[32m  * [2025-01-31 16:10:50] : INFO \u001b[0m Extracting proteins and genes from all genomes\u001b[0m\n",
      "Extraction:████████████████ 20/20 (100%) - Elapsed Time: 0:00:00 Time:  0:00:00\n",
      "\u001b[32m  * [2025-01-31 16:10:50] : INFO \u001b[0m Starting alignment of all families: protein alignment, back-translation to nucleotides, and add missing genomes in the family\u001b[0m\n",
      "Alignment: ██████████████████████████████ 4/4 (100%) - Elapsed Time: 0:00:03 - \u001b[32m  * [2025-01-31 16:10:54] : INFO \u001b[0m Concatenating all nucl alignment files\u001b[0m\n",
      "Concatenation: █████████████████████████████ 4/4 (100%) - Elapsed Time: 0:00:00\n",
      "\u001b[32m  * [2025-01-31 16:10:54] : INFO \u001b[0m Grouping nucleic alignments per genome\u001b[0m\n",
      "|◐                     |  -  Elapsed Time: 0:00:00\n",
      "\u001b[32m  * [2025-01-31 16:10:54] : INFO \u001b[0m END\u001b[0m\n"
     ]
    }
   ],
   "source": [
    "! PanACoTA align -c Coregenome/PersGenome_PanGenome-LeMy.All.prt-clust-0.8-mode1.lst-all_0.62.lst -l Annotation/filtered_LSTINFO-.lst -n LeMy -d Annotation/ -o Alignment"
   ]
  },
  {
   "cell_type": "markdown",
   "metadata": {},
   "source": [
    "Now it is time to work with MSAs a little bit<br>\n",
    "First, create a directory where to store them"
   ]
  },
  {
   "cell_type": "code",
   "execution_count": 43,
   "metadata": {},
   "outputs": [],
   "source": [
    "! mkdir Alignment/MSAs/"
   ]
  },
  {
   "cell_type": "markdown",
   "metadata": {},
   "source": [
    "Let's take a look at the current state of MSAs"
   ]
  },
  {
   "cell_type": "code",
   "execution_count": 1,
   "metadata": {},
   "outputs": [
    {
     "name": "stdout",
     "output_type": "stream",
     "text": [
      ">LeMy.0125.00001.0001i_00011 1491 nuoM | NADH-quinone oxidoreductase subunit M | 7.1.1.- | similar to AA sequence:UniProtKB:P0AFE8 | COG:COG1008\n"
     ]
    }
   ],
   "source": [
    "! head -1 Alignment/Align-LeMy/LeMy-mafft-align.314.aln"
   ]
  },
  {
   "cell_type": "markdown",
   "metadata": {},
   "source": [
    "TOTAL MESS! We must restore the normal state of seqs names"
   ]
  },
  {
   "cell_type": "markdown",
   "metadata": {},
   "source": [
    "Create a name mapping for further renaming"
   ]
  },
  {
   "cell_type": "code",
   "execution_count": 44,
   "metadata": {},
   "outputs": [],
   "source": [
    "# Step 1: Load the TSV file into a dictionary\n",
    "tsv_file = 'Annotation/filtered_LSTINFO-.lst'\n",
    "name_mapping = {}\n",
    "\n",
    "with open(tsv_file, 'r') as file:\n",
    "    reader = csv.DictReader(file, delimiter='\\t')\n",
    "    for row in reader:\n",
    "        # Mapping the gembase_name to orig_name without the .fasta extension\n",
    "        gembase_name = row['gembase_name']\n",
    "        orig_name = row['orig_name'].replace('.fasta', '')  # Remove .fasta extension\n",
    "        name_mapping[gembase_name] = orig_name"
   ]
  },
  {
   "cell_type": "markdown",
   "metadata": {},
   "source": [
    "The function below will take old MSA file with messy seqs names and output MSA with normal seqs names!"
   ]
  },
  {
   "cell_type": "code",
   "execution_count": null,
   "metadata": {},
   "outputs": [],
   "source": [
    "def process_msa(input_file, output_file):\n",
    "    with open(input_file, 'r') as infile, open(output_file, 'w') as outfile:\n",
    "        lines = infile.readlines()\n",
    "        \n",
    "        for line in lines:\n",
    "            if line.startswith('>'):\n",
    "                # Extract the gembase_name from the FASTA header (before the first 3rd dot)\n",
    "                #if output_file == 'Alignment/MSAs/concat.aln':\n",
    "                    #parts = line.strip().split(' ')[0][1:]\n",
    "                    #gembase_name = '.'.join(parts.split('.'))\n",
    "                #else:\n",
    "                parts = line.split(' ')[0][1:]  # Extract the part before the first space and remove '>'\n",
    "                gembase_name = '.'.join(parts.split('.')[:3])\n",
    "                \n",
    "                # Look up the corresponding NC_XXX.2 name from the dictionary\n",
    "                if gembase_name in name_mapping:\n",
    "                    new_header = f\">{name_mapping[gembase_name]}\\n\"\n",
    "                    outfile.write(new_header)\n",
    "                else:\n",
    "                    # If not found in the mapping, keep the original header\n",
    "                    #outfile.write(line)\n",
    "                    continue\n",
    "            elif gembase_name in name_mapping:\n",
    "                # Write sequence lines as they are\n",
    "                outfile.write(line)\n",
    "\n",
    "    print(\"FASTA file has been renamed successfully.\")"
   ]
  },
  {
   "cell_type": "markdown",
   "metadata": {},
   "source": [
    "Rename `Alignment/Align-LeMy/LeMy-mafft-align.314.aln`. As we remember it was `NADH-quinone oxidoreductase subunit M`. So, give the new file this name!"
   ]
  },
  {
   "cell_type": "code",
   "execution_count": 46,
   "metadata": {},
   "outputs": [
    {
     "name": "stdout",
     "output_type": "stream",
     "text": [
      "FASTA file has been renamed successfully.\n"
     ]
    }
   ],
   "source": [
    "# Step 2: Process the FASTA file and rename headers\n",
    "fasta_file = 'Alignment/Align-LeMy/LeMy-mafft-align.314.aln'\n",
    "output_fasta_file = 'Alignment/MSAs/NADH-quinone_oxidoreductase_subunit_M.aln'\n",
    "\n",
    "process_msa(fasta_file, output_fasta_file)"
   ]
  },
  {
   "cell_type": "markdown",
   "metadata": {},
   "source": [
    "Now it is time for `Alignment/Align-LeMy/LeMy-mafft-align.368.aln`"
   ]
  },
  {
   "cell_type": "code",
   "execution_count": 2,
   "metadata": {},
   "outputs": [
    {
     "name": "stdout",
     "output_type": "stream",
     "text": [
      ">LeMy.0125.00001.0001i_00051 270 nuoK | NADH-quinone oxidoreductase subunit K | 7.1.1.- | similar to AA sequence:UniProtKB:A1B482 | COG:COG0713\n"
     ]
    }
   ],
   "source": [
    "! head -1 Alignment/Align-LeMy/LeMy-mafft-align.368.aln"
   ]
  },
  {
   "cell_type": "markdown",
   "metadata": {},
   "source": [
    "Give it a `NADH-quinone oxidoreductase subunit K` name!"
   ]
  },
  {
   "cell_type": "code",
   "execution_count": 47,
   "metadata": {},
   "outputs": [
    {
     "name": "stdout",
     "output_type": "stream",
     "text": [
      "FASTA file has been renamed successfully.\n"
     ]
    }
   ],
   "source": [
    "# Step 2: Process the FASTA file and rename headers\n",
    "fasta_file = 'Alignment/Align-LeMy/LeMy-mafft-align.368.aln'\n",
    "output_fasta_file = 'Alignment/MSAs/NADH-quinone_oxidoreductase_subunit_K.aln'\n",
    "\n",
    "process_msa(fasta_file, output_fasta_file)"
   ]
  },
  {
   "cell_type": "markdown",
   "metadata": {},
   "source": [
    "Next comes `Alignment/Align-LeMy/LeMy-mafft-align.1352.aln`"
   ]
  },
  {
   "cell_type": "code",
   "execution_count": 3,
   "metadata": {},
   "outputs": [
    {
     "name": "stdout",
     "output_type": "stream",
     "text": [
      ">LeMy.0125.00001.0001b_00055 1167 fbcH | Cytochrome b/c1 | NA | similar to AA sequence:UniProtKB:P51131 | COG:COG1290\n"
     ]
    }
   ],
   "source": [
    "! head -1 Alignment/Align-LeMy/LeMy-mafft-align.1352.aln"
   ]
  },
  {
   "cell_type": "markdown",
   "metadata": {},
   "source": [
    "Okay, the name is `Cytochrome b/c1`!"
   ]
  },
  {
   "cell_type": "code",
   "execution_count": 48,
   "metadata": {},
   "outputs": [
    {
     "name": "stdout",
     "output_type": "stream",
     "text": [
      "FASTA file has been renamed successfully.\n"
     ]
    }
   ],
   "source": [
    "# Step 2: Process the FASTA file and rename headers\n",
    "fasta_file = 'Alignment/Align-LeMy/LeMy-mafft-align.1352.aln'\n",
    "output_fasta_file = 'Alignment/MSAs/Cytochrome_b_c1.aln'\n",
    "\n",
    "process_msa(fasta_file, output_fasta_file)"
   ]
  },
  {
   "cell_type": "markdown",
   "metadata": {},
   "source": [
    "Finally, `Alignment/Align-LeMy/LeMy-mafft-align.1664.aln`"
   ]
  },
  {
   "cell_type": "code",
   "execution_count": 4,
   "metadata": {},
   "outputs": [
    {
     "name": "stdout",
     "output_type": "stream",
     "text": [
      ">LeMy.0125.00001.0001i_00012 774 atpB | ATP synthase subunit a | NA | similar to AA sequence:UniProtKB:O05330 | COG:COG0356\n"
     ]
    }
   ],
   "source": [
    "! head -1 Alignment/Align-LeMy/LeMy-mafft-align.1664.aln"
   ]
  },
  {
   "cell_type": "markdown",
   "metadata": {},
   "source": [
    "And its name is `ATP synthase subunit a`"
   ]
  },
  {
   "cell_type": "code",
   "execution_count": 49,
   "metadata": {},
   "outputs": [
    {
     "name": "stdout",
     "output_type": "stream",
     "text": [
      "FASTA file has been renamed successfully.\n"
     ]
    }
   ],
   "source": [
    "# Step 2: Process the FASTA file and rename headers\n",
    "fasta_file = 'Alignment/Align-LeMy/LeMy-mafft-align.1664.aln'\n",
    "output_fasta_file = 'Alignment/MSAs/ATP_synthase_subunit_a.aln'\n",
    "\n",
    "process_msa(fasta_file, output_fasta_file)"
   ]
  },
  {
   "cell_type": "markdown",
   "metadata": {},
   "source": [
    "When the MSAs are ready it is time to trim them all!!!"
   ]
  },
  {
   "cell_type": "markdown",
   "metadata": {},
   "source": [
    "First, create a directory to store trimmed MSAs"
   ]
  },
  {
   "cell_type": "code",
   "execution_count": null,
   "metadata": {},
   "outputs": [],
   "source": [
    "! mkdir Alignment/trimmed_MSAs/"
   ]
  },
  {
   "cell_type": "markdown",
   "metadata": {},
   "source": [
    "Then run a bash loop with `trimAl` in it on them"
   ]
  },
  {
   "cell_type": "code",
   "execution_count": 54,
   "metadata": {},
   "outputs": [],
   "source": [
    "%%bash\n",
    "\n",
    "for msa in Alignment/MSAs/*.aln\n",
    "do trimal -in $msa -out Alignment/trimmed_MSAs/$(basename \"$msa\" .aln)_trim.fa -automated1\n",
    "done"
   ]
  },
  {
   "cell_type": "markdown",
   "metadata": {},
   "source": [
    "We've got the trimmed MSAs! Now what? MODEL-FINDER!"
   ]
  },
  {
   "cell_type": "markdown",
   "metadata": {},
   "source": [
    "First, create a directory to store ModelFinder log files"
   ]
  },
  {
   "cell_type": "code",
   "execution_count": 65,
   "metadata": {},
   "outputs": [],
   "source": [
    "! mkdir model-finder/"
   ]
  },
  {
   "cell_type": "markdown",
   "metadata": {},
   "source": [
    "Then run a bash loop with `ModelFinder` in it on trimmed MSAs!"
   ]
  },
  {
   "cell_type": "code",
   "execution_count": null,
   "metadata": {},
   "outputs": [],
   "source": [
    "%%bash\n",
    "\n",
    "for msa in Alignment/trimmed_MSAs/*_trim.fa\n",
    "do \n",
    "    iqtree2 -m MFP -s $msa --prefix model-finder/$(basename \"$msa\" _trim.fa) -T AUTO\n",
    "done"
   ]
  },
  {
   "cell_type": "markdown",
   "metadata": {},
   "source": [
    "Get the best fit model for `ATP synthase subunit a`"
   ]
  },
  {
   "cell_type": "code",
   "execution_count": 67,
   "metadata": {},
   "outputs": [
    {
     "name": "stdout",
     "output_type": "stream",
     "text": [
      "Best-fit model according to BIC: mtZOA+I+G4\n",
      "\n",
      "List of models sorted by BIC scores: \n",
      "\n",
      "Model                  LogL         AIC      w-AIC        AICc     w-AICc         BIC      w-BIC\n",
      "mtZOA+I+G4        -1699.484    3452.968 - 5.44e-05    3459.542 +   0.0616    3548.898 +    0.501\n"
     ]
    }
   ],
   "source": [
    "! head -42 model-finder/ATP_synthase_subunit_a.iqtree | tail -6"
   ]
  },
  {
   "cell_type": "markdown",
   "metadata": {},
   "source": [
    "Get the best fit model for `Cytochrome b/c1`"
   ]
  },
  {
   "cell_type": "code",
   "execution_count": 68,
   "metadata": {},
   "outputs": [
    {
     "name": "stdout",
     "output_type": "stream",
     "text": [
      "Best-fit model according to BIC: mtZOA+I+R2\n",
      "\n",
      "List of models sorted by BIC scores: \n",
      "\n",
      "Model                  LogL         AIC      w-AIC        AICc     w-AICc         BIC      w-BIC\n",
      "mtZOA+I+R2        -2282.265    4624.529 -  0.00112    4629.844 +    0.132    4742.813 +    0.968\n"
     ]
    }
   ],
   "source": [
    "! head -42 model-finder/Cytochrome_b_c1.iqtree | tail -6"
   ]
  },
  {
   "cell_type": "markdown",
   "metadata": {},
   "source": [
    "Get the best fit model for `NADH-quinone oxidoreductase subunit K`"
   ]
  },
  {
   "cell_type": "code",
   "execution_count": 69,
   "metadata": {},
   "outputs": [
    {
     "name": "stdout",
     "output_type": "stream",
     "text": [
      "Best-fit model according to BIC: mtMet+G4\n",
      "\n",
      "List of models sorted by BIC scores: \n",
      "\n",
      "Model                  LogL         AIC      w-AIC        AICc     w-AICc         BIC      w-BIC\n",
      "mtMet+G4           -439.903     943.806 -  0.00606     981.520 +    0.227    1023.442 +    0.186\n"
     ]
    }
   ],
   "source": [
    "! head -42 model-finder/NADH-quinone_oxidoreductase_subunit_K.iqtree | tail -6"
   ]
  },
  {
   "cell_type": "markdown",
   "metadata": {},
   "source": [
    "Get the best fit model for `NADH-quinone oxidoreductase subunit M`"
   ]
  },
  {
   "cell_type": "code",
   "execution_count": 70,
   "metadata": {},
   "outputs": [
    {
     "name": "stdout",
     "output_type": "stream",
     "text": [
      "Best-fit model according to BIC: mtZOA+G4\n",
      "\n",
      "List of models sorted by BIC scores: \n",
      "\n",
      "Model                  LogL         AIC      w-AIC        AICc     w-AICc         BIC      w-BIC\n",
      "mtZOA+G4          -3022.927    6097.854 - 2.74e-13    6100.919 - 8.08e-12    6206.642 +    0.609\n"
     ]
    }
   ],
   "source": [
    "! head -42 model-finder/NADH-quinone_oxidoreductase_subunit_M.iqtree | tail -6"
   ]
  },
  {
   "cell_type": "markdown",
   "metadata": {},
   "source": [
    "At last... We have best fit models for all of our 4 genes... It's time to launch `IQ-TREE`!"
   ]
  },
  {
   "cell_type": "markdown",
   "metadata": {},
   "source": [
    "First, create a directory to store the trees"
   ]
  },
  {
   "cell_type": "code",
   "execution_count": 71,
   "metadata": {},
   "outputs": [],
   "source": [
    "! mkdir tree/"
   ]
  },
  {
   "cell_type": "markdown",
   "metadata": {},
   "source": [
    "Then run a bash loop with `IQ-TREE` in it on trimmed MSAs"
   ]
  },
  {
   "cell_type": "code",
   "execution_count": null,
   "metadata": {},
   "outputs": [],
   "source": [
    "%%bash\n",
    "\n",
    "for msa in Alignment/trimmed_MSAs/*_trim.fa\n",
    "do \n",
    "    if [[ \"$msa\" == \"ATP_synthase_subunit_a_trim.fa\" ]]; then\n",
    "        model=\"mtZOA+I+G4\"\n",
    "    elif [[ \"$msa\" == \"Cytochrome_b_c1_trim.fa\" ]]; then\n",
    "        model=\"mtZOA+I+R2\"\n",
    "    elif [[ \"$msa\" == \"NADH-quinone_oxidoreductase_subunit_K_trim.fa\" ]]; then\n",
    "        model=\"mtMet+G4\"\n",
    "    elif [[ \"$msa\" == \"NADH-quinone_oxidoreductase_subunit_M_trim.fa\" ]]; then\n",
    "        model=\"mtZOA+G4\"\n",
    "    fi\n",
    "\n",
    "    iqtree2 -s \"$msa\" -m \"$model\" -pre tree/$(basename \"$msa\" _trim.fa)_ufb -bb 10000 -nt AUTO\n",
    "done"
   ]
  },
  {
   "cell_type": "markdown",
   "metadata": {},
   "source": [
    "Actually that's all!<br>\n",
    "But now we'll fetch metadata on _Leotiomycetes_ fungi from NCBI RefSeq<br>\n",
    "It will be used to annotate the trees in `ggtree`!"
   ]
  },
  {
   "cell_type": "markdown",
   "metadata": {},
   "source": [
    "First, we need the list of accession numbers"
   ]
  },
  {
   "cell_type": "code",
   "execution_count": 1,
   "metadata": {},
   "outputs": [],
   "source": [
    "! esearch -db nucleotide \\\n",
    "    -query '(\"Leotiomycetes\"[Organism] OR Leotiomycetes[All Fields]) AND srcdb_refseq[PROP] AND (fungi[filter] AND mitochondrion[filter])' \\\n",
    "    | efetch -format acc > data/accession_numbers.txt"
   ]
  },
  {
   "cell_type": "markdown",
   "metadata": {},
   "source": [
    "Now create a directory where to store metadat"
   ]
  },
  {
   "cell_type": "code",
   "execution_count": 4,
   "metadata": {},
   "outputs": [],
   "source": [
    "! mkdir metadata/"
   ]
  },
  {
   "cell_type": "markdown",
   "metadata": {},
   "source": [
    "Fetch metadata!"
   ]
  },
  {
   "cell_type": "code",
   "execution_count": 2,
   "metadata": {},
   "outputs": [
    {
     "name": "stdout",
     "output_type": "stream",
     "text": [
      "Metadata retrieval complete.\n",
      "File saved to metadata/raw_metadata.tsv\n"
     ]
    }
   ],
   "source": [
    "! Phyloki --fetch_metadata -email ivpopov@donstu.ru -i data/accession_numbers.txt -o metadata/raw_metadata.tsv"
   ]
  },
  {
   "cell_type": "markdown",
   "metadata": {},
   "source": [
    "This function will clean the `Year` column!"
   ]
  },
  {
   "cell_type": "code",
   "execution_count": 3,
   "metadata": {},
   "outputs": [],
   "source": [
    "def clean_year(input_file, output_file):\n",
    "    \"\"\"\n",
    "    Clean the 'Year' column in a metadata .tsv file to extract only the last 4 digits.\n",
    "\n",
    "    Args:\n",
    "        input_file (str): Path to the input .tsv file.\n",
    "        output_file (str): Path to save the cleaned .tsv file.\n",
    "    \"\"\"\n",
    "    # Load the .tsv file into a DataFrame\n",
    "    df = pd.read_csv(input_file, sep=\"\\t\")\n",
    "\n",
    "    # Extract the last 4 digits of the 'Year' column\n",
    "    df['Year'] = df['Year'].apply(lambda x: str(x)[-4:] if pd.notnull(x) else 'ND')\n",
    "\n",
    "    # Save the updated DataFrame to a new .tsv file\n",
    "    df.to_csv(output_file, sep=\"\\t\", index=False)\n",
    "\n",
    "    print(f\"The 'Year' column has been cleaned.\\nFile saved to {output_file}\")"
   ]
  },
  {
   "cell_type": "markdown",
   "metadata": {},
   "source": [
    "Run the `clean_year()` function!"
   ]
  },
  {
   "cell_type": "code",
   "execution_count": 6,
   "metadata": {},
   "outputs": [
    {
     "name": "stdout",
     "output_type": "stream",
     "text": [
      "The 'Year' column has been cleaned.\n",
      "File saved to metadata/metadata.tsv\n"
     ]
    }
   ],
   "source": [
    "clean_year('metadata/raw_metadata.tsv', 'metadata/metadata.tsv')"
   ]
  },
  {
   "cell_type": "markdown",
   "metadata": {},
   "source": [
    "Now please proceed to the `04_ggtree_journal.R` to visualize the phylogenetic trees"
   ]
  },
  {
   "cell_type": "markdown",
   "metadata": {},
   "source": [
    "Additionally, `NADH-quinone oxidoreductase subunit K` gene MSA will be visualized in `05_ggmsa_journal.R`"
   ]
  }
 ],
 "metadata": {
  "kernelspec": {
   "display_name": "Python 3",
   "language": "python",
   "name": "python3"
  },
  "language_info": {
   "codemirror_mode": {
    "name": "ipython",
    "version": 3
   },
   "file_extension": ".py",
   "mimetype": "text/x-python",
   "name": "python",
   "nbconvert_exporter": "python",
   "pygments_lexer": "ipython3",
   "version": "3.13.2"
  }
 },
 "nbformat": 4,
 "nbformat_minor": 2
}
