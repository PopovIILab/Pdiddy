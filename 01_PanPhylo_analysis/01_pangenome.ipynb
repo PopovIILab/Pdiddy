{
 "cells": [
  {
   "cell_type": "markdown",
   "metadata": {},
   "source": [
    "# **CHAPTER 1. Pangenome analysis**"
   ]
  },
  {
   "cell_type": "markdown",
   "metadata": {},
   "source": [
    "> Disclaimer: this part of work was performed on DSTU's server"
   ]
  },
  {
   "cell_type": "markdown",
   "metadata": {},
   "source": [
    "First, create a directory to store mitochondrions of <i>Leotiomycetes</i> fungi"
   ]
  },
  {
   "cell_type": "code",
   "execution_count": 1,
   "metadata": {},
   "outputs": [],
   "source": [
    "! mkdir data/"
   ]
  },
  {
   "cell_type": "markdown",
   "metadata": {},
   "source": [
    "Now, download all the <i>Leotiomycetes</i> fungi's mitochondrions into `data/Leotiomycetes.fasta` file!"
   ]
  },
  {
   "cell_type": "code",
   "execution_count": 2,
   "metadata": {},
   "outputs": [],
   "source": [
    "! esearch -db nucleotide \\\n",
    "    -query '(\"Leotiomycetes\"[Organism] OR Leotiomycetes[All Fields]) AND srcdb_refseq[PROP] AND (fungi[filter] AND mitochondrion[filter])' \\\n",
    "    | efetch -format fasta > data/Leotiomycetes.fasta"
   ]
  },
  {
   "cell_type": "markdown",
   "metadata": {},
   "source": [
    "For pangenome analysis `PanACoTA` software will be used. `PanACoTA` will take separate fasta files as the input. So, separate them!"
   ]
  },
  {
   "cell_type": "code",
   "execution_count": 5,
   "metadata": {},
   "outputs": [
    {
     "name": "stdout",
     "output_type": "stream",
     "text": [
      "Separated fasta files are written to Leotiomycetes directory\n"
     ]
    }
   ],
   "source": [
    "%run scripts/sepfasta.py data/Leotiomycetes.fasta Leotiomycetes"
   ]
  },
  {
   "cell_type": "markdown",
   "metadata": {},
   "source": [
    "Okay! Now create a `data/listFile` text file with the pathes to fasta files!"
   ]
  },
  {
   "cell_type": "code",
   "execution_count": 19,
   "metadata": {},
   "outputs": [],
   "source": [
    "! ls Leotiomycetes/ > data/listFile"
   ]
  },
  {
   "cell_type": "markdown",
   "metadata": {},
   "source": [
    "As the 1st step of pangenome analysis `PanACoTA` needs to make a homogenous genomes annotation. Let's do it!"
   ]
  },
  {
   "cell_type": "code",
   "execution_count": null,
   "metadata": {},
   "outputs": [],
   "source": [
    "! PanACoTA annotate -d Leotiomycetes/ -r Annotation -n LeMy -l data/listFile --threads 24"
   ]
  },
  {
   "cell_type": "markdown",
   "metadata": {},
   "source": [
    "Good! Now let's construct a pangenome with the proteins identity setting = 0.8 (80%)."
   ]
  },
  {
   "cell_type": "code",
   "execution_count": 21,
   "metadata": {},
   "outputs": [
    {
     "name": "stdout",
     "output_type": "stream",
     "text": [
      "\u001b[32m  * [2025-01-29 20:17:44] : INFO \u001b[0m PanACoTA version 1.4.0\u001b[0m\n",
      "\u001b[32m  * [2025-01-29 20:17:44] : INFO \u001b[0m Command used\n",
      " \t > PanACoTA pangenome -l Annotation/LSTINFO-.lst -n LeMy -d Annotation/Proteins/ -o Pangenome -i 0.8\u001b[0m\n",
      "\u001b[32m  * [2025-01-29 20:17:44] : INFO \u001b[0m Building bank with all proteins to Annotation/Proteins/LeMy.All.prt\u001b[0m\n",
      "Building bank: ███████████████████████████ 24/24 (100%) - Elapsed Time: 0:00:00\n",
      "\u001b[32m  * [2025-01-29 20:17:44] : INFO \u001b[0m Will run MMseqs2 with:\n",
      "\t- minimum sequence identity = 80.0%\n",
      "\t- cluster mode 1\u001b[0m\n",
      "\u001b[32m  * [2025-01-29 20:17:44] : INFO \u001b[0m Creating database\u001b[0m\n",
      "|◓                     |  -  Elapsed Time: 0:00:00\n",
      "\u001b[32m  * [2025-01-29 20:17:44] : INFO \u001b[0m Clustering proteins...\u001b[0m\n",
      "|  ◒                   |  -  Elapsed Time: 0:00:04\n",
      "\u001b[32m  * [2025-01-29 20:17:49] : INFO \u001b[0m Converting mmseqs results to pangenome file\u001b[0m\n",
      "\u001b[32m  * [2025-01-29 20:17:49] : INFO \u001b[0m Pangenome has 1999 families.\u001b[0m\n",
      "\u001b[32m  * [2025-01-29 20:17:49] : INFO \u001b[0m Retrieving information from pan families\u001b[0m\n",
      "\u001b[32m  * [2025-01-29 20:17:49] : INFO \u001b[0m Generating qualitative and quantitative matrix, and summary file\u001b[0m\n",
      "\u001b[32m  * [2025-01-29 20:17:49] : INFO \u001b[0m DONE\u001b[0m\n"
     ]
    }
   ],
   "source": [
    "! PanACoTA pangenome -l Annotation/LSTINFO-.lst -n LeMy -d Annotation/Proteins/ -o Pangenome -i 0.8"
   ]
  },
  {
   "cell_type": "markdown",
   "metadata": {},
   "source": [
    "For now please proceed to the `02_pangenome_visualization.R` and run the analysis there. Then come back!"
   ]
  },
  {
   "cell_type": "markdown",
   "metadata": {},
   "source": [
    "So, there are 4 genes that are presented in more than 14 genomes out of 24! 15 is more than 14, so let's calculate the percentage of genomes sharing these 4 genes!"
   ]
  },
  {
   "cell_type": "code",
   "execution_count": 4,
   "metadata": {},
   "outputs": [
    {
     "data": {
      "text/plain": [
       "62.5"
      ]
     },
     "execution_count": 4,
     "metadata": {},
     "output_type": "execute_result"
    }
   ],
   "source": [
    "15 * 100 / 24"
   ]
  },
  {
   "cell_type": "markdown",
   "metadata": {},
   "source": [
    "Perfect! Now run `PanACoTA`'s `corepers` module to extract those genes!"
   ]
  },
  {
   "cell_type": "code",
   "execution_count": 17,
   "metadata": {},
   "outputs": [
    {
     "name": "stdout",
     "output_type": "stream",
     "text": [
      "\u001b[32m  * [2025-01-29 19:58:54] : INFO \u001b[0m PanACoTA version 1.4.0\u001b[0m\n",
      "\u001b[32m  * [2025-01-29 19:58:54] : INFO \u001b[0m Command used\n",
      " \t > PanACoTA corepers -p Pangenome8/PanGenome-LeMy.All.prt-clust-0.8-mode1.lst -o Coregenome86 -t 0.6\u001b[0m\n",
      "\u001b[32m  * [2025-01-29 19:58:54] : INFO \u001b[0m Will generate a Persistent genome with member(s) in at least 60.0% of all genomes in each family.\n",
      "To be considered as persistent, a family must contain exactly 1 member in at least 60.0% of all genomes. The other genomes are absent from the family.\u001b[0m\n",
      "\u001b[32m  * [2025-01-29 19:58:54] : INFO \u001b[0m Retrieving info from binary file\u001b[0m\n",
      "\u001b[32m  * [2025-01-29 19:58:54] : INFO \u001b[0m Generating Persistent genome of a dataset containing 23 genomes\u001b[0m\n",
      "\u001b[32m  * [2025-01-29 19:58:54] : INFO \u001b[0m The persistent genome contains 4 families, each one having exactly 1 member from at least 60.0% of the 23 different genomes (that is 14 genomes). The other genomes are absent from the family.\u001b[0m\n",
      "\u001b[32m  * [2025-01-29 19:58:54] : INFO \u001b[0m Persistent genome step done.\u001b[0m\n"
     ]
    }
   ],
   "source": [
    "! PanACoTA corepers -p Pangenome/PanGenome-LeMy.All.prt-clust-0.8-mode1.lst -o Coregenome -t 0.62"
   ]
  },
  {
   "cell_type": "markdown",
   "metadata": {},
   "source": [
    "That's all for pangenome analysis! Please proceed to the `03_phylogenetics.ipynb` for further analysis!"
   ]
  }
 ],
 "metadata": {
  "kernelspec": {
   "display_name": "Python 3",
   "language": "python",
   "name": "python3"
  },
  "language_info": {
   "codemirror_mode": {
    "name": "ipython",
    "version": 3
   },
   "file_extension": ".py",
   "mimetype": "text/x-python",
   "name": "python",
   "nbconvert_exporter": "python",
   "pygments_lexer": "ipython3",
   "version": "3.13.1"
  }
 },
 "nbformat": 4,
 "nbformat_minor": 2
}
